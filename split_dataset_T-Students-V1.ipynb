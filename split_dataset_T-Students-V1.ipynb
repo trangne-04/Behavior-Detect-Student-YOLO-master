{
 "cells": [
  {
   "cell_type": "markdown",
   "metadata": {},
   "source": [
    "Chia tỉ lệ 70-20-10 cho T-Students-Fitdnu\n",
    "\n"
   ]
  },
  {
   "cell_type": "markdown",
   "metadata": {},
   "source": [
    "test xem có trùng ảnh + lables"
   ]
  },
  {
   "cell_type": "code",
   "execution_count": 3,
   "metadata": {},
   "outputs": [
    {
     "name": "stdout",
     "output_type": "stream",
     "text": [
      "✅ [TRAIN] Ảnh và nhãn khớp hoàn toàn. Tổng số: 616 ảnh.\n",
      "✅ [VALID] Ảnh và nhãn khớp hoàn toàn. Tổng số: 176 ảnh.\n",
      "✅ [TEST] Ảnh và nhãn khớp hoàn toàn. Tổng số: 88 ảnh.\n",
      "⚠️ Còn file chưa di chuyển hết trong train/images hoặc train/labels.\n",
      "📊 Tổng ảnh sau phân chia: 880\n"
     ]
    }
   ],
   "source": [
    "from pathlib import Path\n",
    "\n",
    "# Đường dẫn thư mục\n",
    "base_path = Path(\"/hdd2/minhnv/CodingYOLOv12/Dataset/T-Student_FIT-DNU-update-1\")\n",
    "splits = ['train', 'valid', 'test']\n",
    "\n",
    "# Hàm kiểm tra từng split\n",
    "def check_split(split):\n",
    "    images_dir = base_path / split / \"images\"\n",
    "    labels_dir = base_path / split / \"labels\"\n",
    "\n",
    "    image_files = list(images_dir.glob(\"*.[jp][pn]g\"))  # jpg hoặc png\n",
    "    label_files = list(labels_dir.glob(\"*.txt\"))\n",
    "\n",
    "    image_names = set([f.stem for f in image_files])\n",
    "    label_names = set([f.stem for f in label_files])\n",
    "\n",
    "    missing_labels = image_names - label_names\n",
    "    missing_images = label_names - image_names\n",
    "\n",
    "    if missing_labels:\n",
    "        print(f\"❌ [{split.upper()}] Có ảnh bị thiếu file nhãn: {missing_labels}\")\n",
    "    if missing_images:\n",
    "        print(f\"❌ [{split.upper()}] Có nhãn bị thiếu file ảnh: {missing_images}\")\n",
    "    if not missing_labels and not missing_images:\n",
    "        print(f\"✅ [{split.upper()}] Ảnh và nhãn khớp hoàn toàn. Tổng số: {len(image_files)} ảnh.\")\n",
    "\n",
    "    return len(image_files)\n",
    "\n",
    "# Tổng số ảnh sau chia\n",
    "total_images = 0\n",
    "for s in splits:\n",
    "    total_images += check_split(s)\n",
    "\n",
    "# Kiểm tra thư mục train gốc đã trống chưa\n",
    "old_images = list((base_path / \"train/images\").glob(\"*\"))\n",
    "old_labels = list((base_path / \"train/labels\").glob(\"*\"))\n",
    "\n",
    "if not old_images and not old_labels:\n",
    "    print(\"✅ Thư mục train/images và train/labels cũ đã được dọn sạch.\")\n",
    "else:\n",
    "    print(\"⚠️ Còn file chưa di chuyển hết trong train/images hoặc train/labels.\")\n",
    "\n",
    "print(f\"📊 Tổng ảnh sau phân chia: {total_images}\")\n"
   ]
  },
  {
   "cell_type": "markdown",
   "metadata": {},
   "source": [
    "Chia dữ liệu 70-20-10"
   ]
  },
  {
   "cell_type": "code",
   "execution_count": 2,
   "metadata": {},
   "outputs": [
    {
     "name": "stdout",
     "output_type": "stream",
     "text": [
      "✅ Đã phân bổ: 4305 ảnh train, 1230 ảnh val, 615 ảnh test.\n",
      "📂 Output lưu tại: /hdd2/minhnv/CodingYOLOv12/Dataset/T-Student_FIT-DNU-update-6-split\n"
     ]
    }
   ],
   "source": [
    "import os\n",
    "import random\n",
    "import shutil\n",
    "from pathlib import Path\n",
    "\n",
    "# Đặt seed để kết quả random reproducible\n",
    "random.seed(42)\n",
    "\n",
    "# Đường dẫn thư mục ảnh gốc (train hiện tại)\n",
    "source_images_dir = Path(\"/hdd2/minhnv/CodingYOLOv12/Dataset/T-Student_FIT-DNU-6/train/images\")\n",
    "source_labels_dir = Path(\"/hdd2/minhnv/CodingYOLOv12/Dataset/T-Student_FIT-DNU-6/train/labels\")\n",
    "\n",
    "# ✅ Thư mục đích mới\n",
    "base_path = Path(\"/hdd2/minhnv/CodingYOLOv12/Dataset/T-Student_FIT-DNU-update-6-split\")\n",
    "dest_dirs = {\n",
    "    \"train\": {\n",
    "        \"images\": base_path / \"train/images\",\n",
    "        \"labels\": base_path / \"train/labels\"\n",
    "    },\n",
    "    \"val\": {\n",
    "        \"images\": base_path / \"valid/images\",\n",
    "        \"labels\": base_path / \"valid/labels\"\n",
    "    },\n",
    "    \"test\": {\n",
    "        \"images\": base_path / \"test/images\",\n",
    "        \"labels\": base_path / \"test/labels\"\n",
    "    }\n",
    "}\n",
    "\n",
    "# Tạo các thư mục nếu chưa có\n",
    "for split in dest_dirs.values():\n",
    "    split[\"images\"].mkdir(parents=True, exist_ok=True)\n",
    "    split[\"labels\"].mkdir(parents=True, exist_ok=True)\n",
    "\n",
    "# Lấy toàn bộ file ảnh (.jpg hoặc .png)\n",
    "image_files = list(source_images_dir.glob(\"*.jpg\")) + list(source_images_dir.glob(\"*.png\"))\n",
    "random.shuffle(image_files)\n",
    "\n",
    "# Tính số lượng ảnh cho mỗi tập\n",
    "total = len(image_files)\n",
    "train_split = int(0.7 * total)\n",
    "val_split = int(0.2 * total)\n",
    "\n",
    "# Hàm sao chép ảnh + nhãn tương ứng sang thư mục mới\n",
    "def copy_files(files, split_name):\n",
    "    for img_path in files:\n",
    "        label_path = source_labels_dir / (img_path.stem + \".txt\")\n",
    "\n",
    "        # Copy ảnh\n",
    "        shutil.copy(str(img_path), dest_dirs[split_name][\"images\"] / img_path.name)\n",
    "\n",
    "        # Copy nhãn nếu có\n",
    "        if label_path.exists():\n",
    "            shutil.copy(str(label_path), dest_dirs[split_name][\"labels\"] / label_path.name)\n",
    "\n",
    "# Chia và sao chép dữ liệu\n",
    "copy_files(image_files[:train_split], \"train\")\n",
    "copy_files(image_files[train_split:train_split + val_split], \"val\")\n",
    "copy_files(image_files[train_split + val_split:], \"test\")\n",
    "\n",
    "print(f\"✅ Đã phân bổ: {train_split} ảnh train, {val_split} ảnh val, {total - train_split - val_split} ảnh test.\")\n",
    "print(f\"📂 Output lưu tại: {base_path}\")\n"
   ]
  }
 ],
 "metadata": {
  "kernelspec": {
   "display_name": "base",
   "language": "python",
   "name": "python3"
  },
  "language_info": {
   "codemirror_mode": {
    "name": "ipython",
    "version": 3
   },
   "file_extension": ".py",
   "mimetype": "text/x-python",
   "name": "python",
   "nbconvert_exporter": "python",
   "pygments_lexer": "ipython3",
   "version": "3.12.7"
  }
 },
 "nbformat": 4,
 "nbformat_minor": 2
}
