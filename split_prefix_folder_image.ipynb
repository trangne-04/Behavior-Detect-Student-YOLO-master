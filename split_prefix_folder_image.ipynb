{
 "cells": [
  {
   "cell_type": "markdown",
   "metadata": {},
   "source": [
    "## Tách dữ liệu image D09 và D11"
   ]
  },
  {
   "cell_type": "code",
   "execution_count": 6,
   "metadata": {},
   "outputs": [
    {
     "name": "stdout",
     "output_type": "stream",
     "text": [
      "Số lượng ảnh có tiền tố D09: 2620\n",
      "Số lượng ảnh có tiền tố D11: 3530\n"
     ]
    }
   ],
   "source": [
    "import os\n",
    "\n",
    "image_path = \"/hdd2/minhnv/CodingYOLOv12/Dataset/T-Student_FIT-DNU-6/train/images\"\n",
    "label_path = \"/hdd2/minhnv/CodingYOLOv12/Dataset/T-Student_FIT-DNU-6/train/labels\"\n",
    "\n",
    "# Đếm số lượng ảnh có tiền tố là D09 và D11\n",
    "d09_count = 0\n",
    "d11_count = 0\n",
    "\n",
    "for file in os.listdir(image_path):\n",
    "    if file.startswith(\"D09\"):\n",
    "        d09_count += 1\n",
    "    elif file.startswith(\"D11\"):\n",
    "        d11_count += 1\n",
    "\n",
    "print(f\"Số lượng ảnh có tiền tố D09: {d09_count}\")\n",
    "print(f\"Số lượng ảnh có tiền tố D11: {d11_count}\")"
   ]
  },
  {
   "cell_type": "markdown",
   "metadata": {},
   "source": [
    "## Copy iamge D11 va D09 sang folder mới"
   ]
  },
  {
   "cell_type": "code",
   "execution_count": 2,
   "metadata": {},
   "outputs": [],
   "source": [
    "import os\n",
    "import shutil\n",
    "\n",
    "image_path = \"/hdd2/minhnv/CodingYOLOv12/Dataset/T-Student_FIT-DNU-6/train/images\"\n",
    "label_path = \"/hdd2/minhnv/CodingYOLOv12/Dataset/T-Student_FIT-DNU-6/train/labels\"\n",
    "\n",
    "# Tạo thư mục mới\n",
    "d11_path = \"/hdd2/minhnv/CodingYOLOv12/Dataset/T-Student_FIT-DNU-6-Split-D11\"\n",
    "d09_path = \"/hdd2/minhnv/CodingYOLOv12/Dataset/T-Student_FIT-DNU-6-Split-D09\"\n",
    "\n",
    "if not os.path.exists(d11_path):\n",
    "    os.makedirs(d11_path)\n",
    "if not os.path.exists(d09_path):\n",
    "    os.makedirs(d09_path)\n",
    "\n",
    "# Tạo thư mục images và labels trong thư mục mới\n",
    "if not os.path.exists(os.path.join(d11_path, \"images\")):\n",
    "    os.makedirs(os.path.join(d11_path, \"images\"))\n",
    "if not os.path.exists(os.path.join(d11_path, \"labels\")):\n",
    "    os.makedirs(os.path.join(d11_path, \"labels\"))\n",
    "if not os.path.exists(os.path.join(d09_path, \"images\")):\n",
    "    os.makedirs(os.path.join(d09_path, \"images\"))\n",
    "if not os.path.exists(os.path.join(d09_path, \"labels\")):\n",
    "    os.makedirs(os.path.join(d09_path, \"labels\"))\n",
    "\n",
    "# Sao chép dữ liệu sang thư mục mới\n",
    "for file in os.listdir(image_path):\n",
    "    if file.startswith(\"D11\"):\n",
    "        shutil.copy(os.path.join(image_path, file), os.path.join(d11_path, \"images\"))\n",
    "        shutil.copy(os.path.join(label_path, file.replace(\".jpg\", \".txt\")), os.path.join(d11_path, \"labels\"))\n",
    "    elif file.startswith(\"D09\"):\n",
    "        shutil.copy(os.path.join(image_path, file), os.path.join(d09_path, \"images\"))\n",
    "        shutil.copy(os.path.join(label_path, file.replace(\".jpg\", \".txt\")), os.path.join(d09_path, \"labels\"))\n",
    "\n",
    "# Kiểm tra xem image và label có hợp lệ không\n",
    "for folder in [d11_path, d09_path]:\n",
    "    image_folder = os.path.join(folder, \"images\")\n",
    "    label_folder = os.path.join(folder, \"labels\")\n",
    "    for file in os.listdir(image_folder):\n",
    "        image_path = os.path.join(image_folder, file)\n",
    "        label_path = os.path.join(label_folder, file.replace(\".jpg\", \".txt\"))\n",
    "        if not os.path.exists(label_path):\n",
    "            print(f\"Không tìm thấy label cho ảnh {image_path}\")\n",
    "        elif os.path.getsize(image_path) == 0 or os.path.getsize(label_path) == 0:\n",
    "            print(f\"Ảnh hoặc label {image_path} hoặc {label_path} trống\")"
   ]
  }
 ],
 "metadata": {
  "kernelspec": {
   "display_name": "base",
   "language": "python",
   "name": "python3"
  },
  "language_info": {
   "codemirror_mode": {
    "name": "ipython",
    "version": 3
   },
   "file_extension": ".py",
   "mimetype": "text/x-python",
   "name": "python",
   "nbconvert_exporter": "python",
   "pygments_lexer": "ipython3",
   "version": "3.12.7"
  }
 },
 "nbformat": 4,
 "nbformat_minor": 2
}
