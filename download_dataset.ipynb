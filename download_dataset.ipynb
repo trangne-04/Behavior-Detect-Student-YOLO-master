{
 "cells": [
  {
   "cell_type": "markdown",
   "metadata": {},
   "source": [
    "## Download dataset from roboflow"
   ]
  },
  {
   "cell_type": "code",
   "execution_count": 1,
   "metadata": {},
   "outputs": [
    {
     "name": "stdout",
     "output_type": "stream",
     "text": [
      "Defaulting to user installation because normal site-packages is not writeable\n",
      "Requirement already satisfied: roboflow in /home/minhnv/.local/lib/python3.12/site-packages (1.1.54)\n",
      "Requirement already satisfied: certifi in /opt/anaconda/lib/python3.12/site-packages (from roboflow) (2024.8.30)\n",
      "Requirement already satisfied: idna==3.7 in /opt/anaconda/lib/python3.12/site-packages (from roboflow) (3.7)\n",
      "Requirement already satisfied: cycler in /opt/anaconda/lib/python3.12/site-packages (from roboflow) (0.11.0)\n",
      "Requirement already satisfied: kiwisolver>=1.3.1 in /opt/anaconda/lib/python3.12/site-packages (from roboflow) (1.4.4)\n",
      "Requirement already satisfied: matplotlib in /opt/anaconda/lib/python3.12/site-packages (from roboflow) (3.9.2)\n",
      "Requirement already satisfied: numpy>=1.18.5 in /opt/anaconda/lib/python3.12/site-packages (from roboflow) (1.26.4)\n",
      "Requirement already satisfied: opencv-python-headless==4.10.0.84 in /home/minhnv/.local/lib/python3.12/site-packages (from roboflow) (4.10.0.84)\n",
      "Requirement already satisfied: Pillow>=7.1.2 in /opt/anaconda/lib/python3.12/site-packages (from roboflow) (10.4.0)\n",
      "Requirement already satisfied: python-dateutil in /opt/anaconda/lib/python3.12/site-packages (from roboflow) (2.9.0.post0)\n",
      "Requirement already satisfied: python-dotenv in /opt/anaconda/lib/python3.12/site-packages (from roboflow) (0.21.0)\n",
      "Requirement already satisfied: requests in /opt/anaconda/lib/python3.12/site-packages (from roboflow) (2.32.3)\n",
      "Requirement already satisfied: six in /opt/anaconda/lib/python3.12/site-packages (from roboflow) (1.16.0)\n",
      "Requirement already satisfied: urllib3>=1.26.6 in /opt/anaconda/lib/python3.12/site-packages (from roboflow) (2.2.3)\n",
      "Requirement already satisfied: tqdm>=4.41.0 in /opt/anaconda/lib/python3.12/site-packages (from roboflow) (4.66.5)\n",
      "Requirement already satisfied: PyYAML>=5.3.1 in /opt/anaconda/lib/python3.12/site-packages (from roboflow) (6.0.1)\n",
      "Requirement already satisfied: requests-toolbelt in /opt/anaconda/lib/python3.12/site-packages (from roboflow) (1.0.0)\n",
      "Requirement already satisfied: filetype in /home/minhnv/.local/lib/python3.12/site-packages (from roboflow) (1.2.0)\n",
      "Requirement already satisfied: contourpy>=1.0.1 in /opt/anaconda/lib/python3.12/site-packages (from matplotlib->roboflow) (1.2.0)\n",
      "Requirement already satisfied: fonttools>=4.22.0 in /opt/anaconda/lib/python3.12/site-packages (from matplotlib->roboflow) (4.51.0)\n",
      "Requirement already satisfied: packaging>=20.0 in /opt/anaconda/lib/python3.12/site-packages (from matplotlib->roboflow) (24.1)\n",
      "Requirement already satisfied: pyparsing>=2.3.1 in /opt/anaconda/lib/python3.12/site-packages (from matplotlib->roboflow) (3.1.2)\n",
      "Requirement already satisfied: charset-normalizer<4,>=2 in /opt/anaconda/lib/python3.12/site-packages (from requests->roboflow) (3.3.2)\n"
     ]
    }
   ],
   "source": [
    "!pip install roboflow"
   ]
  },
  {
   "cell_type": "markdown",
   "metadata": {},
   "source": [
    "### Lấy đường dẫn"
   ]
  },
  {
   "cell_type": "code",
   "execution_count": 2,
   "metadata": {},
   "outputs": [
    {
     "name": "stdout",
     "output_type": "stream",
     "text": [
      "/hdd2/minhnv/CodingYOLOv12/Behavior-Detect-Student-YOLO/DataPreprocessing\n"
     ]
    }
   ],
   "source": [
    "import os\n",
    "print(os.getcwd())"
   ]
  },
  {
   "cell_type": "markdown",
   "metadata": {},
   "source": [
    "### Lấy dataset T-STUDENT-FITDNU"
   ]
  },
  {
   "cell_type": "code",
   "execution_count": 3,
   "metadata": {},
   "outputs": [
    {
     "name": "stdout",
     "output_type": "stream",
     "text": [
      "/hdd2/minhnv/CodingYOLOv12/Dataset\n",
      "loading Roboflow workspace...\n",
      "loading Roboflow project...\n"
     ]
    },
    {
     "name": "stderr",
     "output_type": "stream",
     "text": [
      "Downloading Dataset Version Zip in Student-Behavior-Recognition-9 to yolov12:: 100%|██████████| 931140/931140 [00:42<00:00, 22047.17it/s]"
     ]
    },
    {
     "name": "stdout",
     "output_type": "stream",
     "text": [
      "\n"
     ]
    },
    {
     "name": "stderr",
     "output_type": "stream",
     "text": [
      "\n",
      "Extracting Dataset Version Zip to Student-Behavior-Recognition-9 in yolov12:: 100%|██████████| 7274/7274 [00:01<00:00, 4129.08it/s]\n"
     ]
    },
    {
     "name": "stdout",
     "output_type": "stream",
     "text": [
      "Dữ liệu đã tải về: /hdd2/minhnv/CodingYOLOv12/Dataset/Student-Behavior-Recognition-9\n"
     ]
    }
   ],
   "source": [
    "from roboflow import Roboflow\n",
    "import os\n",
    "import shutil\n",
    "\n",
    "%cd \"/hdd2/minhnv/CodingYOLOv12/Dataset\"\n",
    "\n",
    "\n",
    "rf = Roboflow(api_key=\"JutTY4tTGxWHjEqJiZNb\")\n",
    "project = rf.workspace(\"nhan-dien-hanh-vi-trong-lop-hoc\").project(\"student-behavior-recognition\")\n",
    "## Chọn version\n",
    "version = project.version(9)\n",
    "dataset = version.download(\"yolov12\")\n",
    "\n",
    "# # Tải version 3 của dataset với format YOLOv5\n",
    "print(f\"Dữ liệu đã tải về: {dataset.location}\")\n",
    "\n",
    "# Đường dẫn lưu trữ trong Google Drive\n",
    "# drive_dataset_path = '/home/minhnv/Documents/ntt/AiIot/FinalPorject/CodingYOLOv12/Dataset/'\n",
    "\n",
    "# # Tạo thư mục nếu chưa tồn tại\n",
    "# os.makedirs(drive_dataset_path, exist_ok=True)\n",
    "\n",
    "# # Sao chép toàn bộ thư mục dataset sang Google Drive\n",
    "# shutil.copytree(dataset.location, drive_dataset_path, dirs_exist_ok=True)\n",
    "\n",
    "# print(f\"Đã sao chép dataset đến: {drive_dataset_path}\")\n",
    "\n",
    "# # In ra cấu trúc thư mục để kiểm tra\n",
    "# import subprocess\n",
    "# print(\"\\nCấu trúc thư mục:\")\n",
    "# subprocess.run(f\"tree {drive_dataset_path}\", shell=True)"
   ]
  },
  {
   "cell_type": "code",
   "execution_count": 1,
   "metadata": {},
   "outputs": [
    {
     "name": "stdout",
     "output_type": "stream",
     "text": [
      "/hdd2/minhnv/CodingYOLOv12/Dataset\n",
      "loading Roboflow workspace...\n",
      "loading Roboflow project...\n"
     ]
    },
    {
     "name": "stderr",
     "output_type": "stream",
     "text": [
      "Downloading Dataset Version Zip in T-Student_FIT-DNU-6 to yolov12:: 100%|██████████| 1854150/1854150 [02:12<00:00, 13990.76it/s]"
     ]
    },
    {
     "name": "stdout",
     "output_type": "stream",
     "text": [
      "\n"
     ]
    },
    {
     "name": "stderr",
     "output_type": "stream",
     "text": [
      "\n",
      "Extracting Dataset Version Zip to T-Student_FIT-DNU-6 in yolov12:: 100%|██████████| 12306/12306 [00:03<00:00, 3242.42it/s] \n"
     ]
    }
   ],
   "source": [
    "\n",
    "from roboflow import Roboflow\n",
    "\n",
    "%cd \"/hdd2/minhnv/CodingYOLOv12/Dataset\"\n",
    "\n",
    "rf = Roboflow(api_key=\"WoI82BOZwFadZbl1PhL1\")\n",
    "project = rf.workspace(\"phat-hien-hanh-vi-sinh-vien-trong-lop-hoc\").project(\"t-student_fit-dnu-lmipd\")\n",
    "version = project.version(6)\n",
    "dataset = version.download(\"yolov12\")"
   ]
  }
 ],
 "metadata": {
  "kernelspec": {
   "display_name": "base",
   "language": "python",
   "name": "python3"
  },
  "language_info": {
   "codemirror_mode": {
    "name": "ipython",
    "version": 3
   },
   "file_extension": ".py",
   "mimetype": "text/x-python",
   "name": "python",
   "nbconvert_exporter": "python",
   "pygments_lexer": "ipython3",
   "version": "3.12.7"
  }
 },
 "nbformat": 4,
 "nbformat_minor": 2
}
